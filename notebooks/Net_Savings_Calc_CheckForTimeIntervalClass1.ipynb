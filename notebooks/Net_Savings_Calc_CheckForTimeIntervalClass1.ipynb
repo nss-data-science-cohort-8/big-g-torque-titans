{
 "cells": [
  {
   "cell_type": "code",
   "execution_count": 1,
   "id": "41f88039",
   "metadata": {},
   "outputs": [],
   "source": [
    "# pip install shap"
   ]
  },
  {
   "cell_type": "code",
   "execution_count": 2,
   "id": "81418fd3",
   "metadata": {},
   "outputs": [],
   "source": [
    "import pandas as pd\n",
    "import numpy as np\n",
    "import scipy.stats as stats"
   ]
  },
  {
   "cell_type": "code",
   "execution_count": 3,
   "id": "9813c536",
   "metadata": {},
   "outputs": [],
   "source": [
    "import matplotlib.pyplot as plt\n",
    "import seaborn as sns\n",
    "\n",
    "from sklearn.model_selection import train_test_split\n",
    "from sklearn.neural_network import MLPClassifier, MLPRegressor\n",
    "\n",
    "from sklearn.preprocessing import StandardScaler, OneHotEncoder, LabelEncoder, OrdinalEncoder\n",
    "# from sklearn.pipeline import Pipeline\n",
    "from imblearn.pipeline import Pipeline \n",
    "from sklearn.compose import ColumnTransformer\n",
    "\n",
    "from sklearn.metrics import (\n",
    "        classification_report, confusion_matrix, r2_score, mean_squared_error, root_mean_squared_error, mean_absolute_error, mean_absolute_percentage_error, accuracy_score, f1_score, roc_auc_score, roc_curve, precision_recall_curve\n",
    ") \n",
    "\n",
    "from sklearn.inspection import PartialDependenceDisplay, permutation_importance, partial_dependence"
   ]
  },
  {
   "cell_type": "code",
   "execution_count": 4,
   "id": "48f20eb3",
   "metadata": {},
   "outputs": [],
   "source": [
    "from sklearn.linear_model import LogisticRegression\n",
    "from sklearn.model_selection import train_test_split, RandomizedSearchCV, GridSearchCV, RepeatedStratifiedKFold\n",
    "from xgboost import XGBClassifier, XGBRegressor, plot_importance\n",
    "from sklearn.model_selection import cross_val_score"
   ]
  },
  {
   "cell_type": "code",
   "execution_count": 5,
   "id": "f53490c3",
   "metadata": {},
   "outputs": [],
   "source": [
    "from category_encoders import TargetEncoder \n",
    "from sklearn.feature_selection import SelectFromModel"
   ]
  },
  {
   "cell_type": "code",
   "execution_count": 6,
   "id": "817e1d1d",
   "metadata": {},
   "outputs": [],
   "source": [
    "# from sklearn.datasets import make_classification"
   ]
  },
  {
   "cell_type": "code",
   "execution_count": 7,
   "id": "0b36d46b",
   "metadata": {},
   "outputs": [],
   "source": [
    "from imblearn.over_sampling import SMOTE\n",
    "from collections import Counter"
   ]
  },
  {
   "cell_type": "code",
   "execution_count": 8,
   "id": "edc5bcc8",
   "metadata": {},
   "outputs": [],
   "source": [
    "from sklearn.experimental import enable_iterative_imputer\n",
    "from sklearn.impute import IterativeImputer "
   ]
  },
  {
   "cell_type": "code",
   "execution_count": 9,
   "id": "7d876e25",
   "metadata": {},
   "outputs": [],
   "source": [
    "from feature_engine.imputation import CategoricalImputer\n",
    "from sklearn.tree import DecisionTreeRegressor\n",
    "from sklearn.ensemble import ExtraTreesRegressor, GradientBoostingRegressor, HistGradientBoostingRegressor"
   ]
  },
  {
   "cell_type": "code",
   "execution_count": 10,
   "id": "45c86864",
   "metadata": {},
   "outputs": [],
   "source": [
    "from xgbimputer import XGBImputer"
   ]
  },
  {
   "cell_type": "code",
   "execution_count": 11,
   "id": "66c87fab",
   "metadata": {},
   "outputs": [],
   "source": [
    "import tqdm as notebook_tqdm"
   ]
  },
  {
   "cell_type": "code",
   "execution_count": 12,
   "id": "537a0d54",
   "metadata": {},
   "outputs": [],
   "source": [
    "import shap"
   ]
  },
  {
   "cell_type": "code",
   "execution_count": 13,
   "id": "e7468642",
   "metadata": {},
   "outputs": [],
   "source": [
    "In2019_withFresh_Y_Pred = pd.read_csv('../data/In2019_withFresh_Y_Pred_TimeIntervalClass.csv') "
   ]
  },
  {
   "cell_type": "code",
   "execution_count": 14,
   "id": "4c0802ab",
   "metadata": {},
   "outputs": [
    {
     "name": "stdout",
     "output_type": "stream",
     "text": [
      "<class 'pandas.core.frame.DataFrame'>\n",
      "RangeIndex: 112019 entries, 0 to 112018\n",
      "Data columns (total 55 columns):\n",
      " #   Column                          Non-Null Count   Dtype  \n",
      "---  ------                          --------------   -----  \n",
      " 0   Unnamed: 0.2                    112019 non-null  int64  \n",
      " 1   Unnamed: 0.1                    112019 non-null  int64  \n",
      " 2   Unnamed: 0                      112019 non-null  int64  \n",
      " 3   RecordID                        112019 non-null  int64  \n",
      " 4   ESS_Id                          112019 non-null  int64  \n",
      " 5   EventTimeStamp                  112019 non-null  object \n",
      " 6   eventDescription                108067 non-null  object \n",
      " 7   actionDescription               0 non-null       float64\n",
      " 8   ecuSoftwareVersion              49117 non-null   object \n",
      " 9   ecuSerialNumber                 46794 non-null   object \n",
      " 10  ecuModel                        104416 non-null  object \n",
      " 11  ecuMake                         104416 non-null  object \n",
      " 12  ecuSource                       112019 non-null  int64  \n",
      " 13  spn                             112019 non-null  float64\n",
      " 14  fmi                             112019 non-null  float64\n",
      " 15  active                          112019 non-null  bool   \n",
      " 16  activeTransitionCount           112019 non-null  int64  \n",
      " 17  faultValue                      0 non-null       float64\n",
      " 18  EquipmentID                     112019 non-null  int64  \n",
      " 19  MCTNumber                       112019 non-null  int64  \n",
      " 20  Latitude                        112019 non-null  float64\n",
      " 21  Longitude                       112019 non-null  float64\n",
      " 22  LocationTimeStamp               112019 non-null  object \n",
      " 23  FaultId                         112019 non-null  int64  \n",
      " 24  AcceleratorPedal                56551 non-null   float64\n",
      " 25  BarometricPressure              56615 non-null   float64\n",
      " 26  CruiseControlActive             56589 non-null   object \n",
      " 27  CruiseControlSetSpeed           56698 non-null   float64\n",
      " 28  DistanceLtd                     56567 non-null   float64\n",
      " 29  EngineCoolantTemperature        56643 non-null   float64\n",
      " 30  EngineLoad                      56648 non-null   float64\n",
      " 31  EngineOilPressure               56645 non-null   float64\n",
      " 32  EngineOilTemperature            56506 non-null   float64\n",
      " 33  EngineRpm                       56752 non-null   float64\n",
      " 34  EngineTimeLtd                   56598 non-null   float64\n",
      " 35  FuelLevel                       55129 non-null   float64\n",
      " 36  FuelLtd                         56712 non-null   float64\n",
      " 37  FuelRate                        56597 non-null   float64\n",
      " 38  FuelTemperature                 23808 non-null   float64\n",
      " 39  IgnStatus                       56881 non-null   object \n",
      " 40  IntakeManifoldTemperature       56645 non-null   float64\n",
      " 41  LampStatus                      112019 non-null  float64\n",
      " 42  ParkingBrake                    51876 non-null   object \n",
      " 43  ServiceDistance                 0 non-null       float64\n",
      " 44  Speed                           56518 non-null   float64\n",
      " 45  SwitchedBatteryVoltage          4151 non-null    float64\n",
      " 46  Throttle                        56452 non-null   float64\n",
      " 47  TurboBoostPressure              56525 non-null   float64\n",
      " 48  spn_fmi                         112019 non-null  object \n",
      " 49  is_fullderate                   112019 non-null  int64  \n",
      " 50  is_fullderate_group             112019 non-null  int64  \n",
      " 51  EquipID_Index                   112019 non-null  object \n",
      " 52  time_to_next_SPN5246            112019 non-null  float64\n",
      " 53  time_interval_to_SPN5246_class  112019 non-null  int64  \n",
      " 54  Predicted_Time_Interval_Class   112019 non-null  int64  \n",
      "dtypes: bool(1), float64(28), int64(14), object(12)\n",
      "memory usage: 46.3+ MB\n"
     ]
    }
   ],
   "source": [
    "In2019_withFresh_Y_Pred.info()"
   ]
  },
  {
   "cell_type": "markdown",
   "id": "25e1e9f5",
   "metadata": {},
   "source": [
    "**Goal:** Predict the rank based on the total shots."
   ]
  },
  {
   "cell_type": "code",
   "execution_count": 15,
   "id": "0dea232f",
   "metadata": {},
   "outputs": [],
   "source": [
    "In2019_withFresh_Y_Pred['spn_fmi'] = In2019_withFresh_Y_Pred['spn_fmi'].str.replace('.0', '')"
   ]
  },
  {
   "cell_type": "code",
   "execution_count": 16,
   "id": "6cbf987b",
   "metadata": {},
   "outputs": [],
   "source": [
    "def calculate_equipment_savings(data_path):\n",
    "    \"\"\"\n",
    "    Calculate potential savings or losses based on equipment data analysis.\n",
    "    \n",
    "    Conditions:\n",
    "    1. If SPN 5246 exists in an EquipID_Index group AND Predicted_Time_Interval_Class contains 1: $4000 saved\n",
    "    2. If SPN 5246 doesn't exist in an EquipID_Index group AND Predicted_Time_Interval_Class contains 1: $500 lost\n",
    "    \n",
    "    Args:\n",
    "        data_path (str): Path to the data file (CSV expected)\n",
    "        \n",
    "    Returns:\n",
    "        float: Net savings (positive) or losses (negative) across all equipment\n",
    "    \"\"\"\n",
    "    # Load the data\n",
    "    print(f\"Loading data from {data_path}...\")\n",
    "    df = pd.read_csv(data_path)\n",
    "    \n",
    "    # Display data info for verification\n",
    "    print(f\"Data loaded. Shape: {df.shape}\")\n",
    "    print(f\"Columns: {df.columns.tolist()}\")\n",
    "    print(f\"Number of unique EquipID_Index: {df['EquipID_Index'].nunique()}\")\n",
    "    \n",
    "    # Initialize variables to track total savings/losses\n",
    "    total_savings = 0\n",
    "    total_losses = 0\n",
    "    \n",
    "    # Create a results dataframe to store savings/losses by equipment\n",
    "    results = []\n",
    "    \n",
    "    # Group by EquipID_Index\n",
    "    EquipID_Index_Group = df.groupby('EquipID_Index')\n",
    "    \n",
    "    # Process each equipment group\n",
    "    for EquipID_Index, group in EquipID_Index_Group:\n",
    "        # Check if SPN 5246 exists in this group\n",
    "        has_spn_5246 = (group['spn'] == 5246).any()\n",
    "        \n",
    "        # Check if Predicted_Time_Interval_Class contains 1\n",
    "        has_time_interval_1 = (group['Predicted_Time_Interval_Class'] == 1).any()\n",
    "        \n",
    "        savings = 0\n",
    "        losses = 0\n",
    "        \n",
    "        # Apply the business rules\n",
    "        if has_spn_5246 and has_time_interval_1:\n",
    "            # Condition 1: SPN 5246 exists and Predicted_Time_Interval_Class contains 1\n",
    "            savings = 4000\n",
    "            total_savings += savings\n",
    "        elif not has_spn_5246 and has_time_interval_1:\n",
    "            # Condition 2: SPN 5246 doesn't exist and Predicted_Time_Interval_Class contains 1\n",
    "            losses = 500\n",
    "            total_losses += losses\n",
    "        \n",
    "        # Store the results for this equipment\n",
    "        results.append({\n",
    "            'EquipID_Index': EquipID_Index,\n",
    "            'Has_SPN_5246': has_spn_5246,\n",
    "            'Has_Time_Interval_1': has_time_interval_1,\n",
    "            'Savings': savings,\n",
    "            'Losses': losses,\n",
    "            'Net': savings - losses\n",
    "        })\n",
    "    \n",
    "    # Create a results dataframe\n",
    "    results_df = pd.DataFrame(results)\n",
    "    \n",
    "    # Calculate net savings across all equipment\n",
    "    net_saving_or_loss = total_savings - total_losses\n",
    "    \n",
    "    # Display summary\n",
    "    print(\"\\nSummary of Results:\")\n",
    "    print(f\"Total Count of EquipmentID_Index by Full Derates or Lack Thereof: {len(results)}\")\n",
    "    print(f\"Number of Full Derate True Positive Predictions with Savings: {(results_df['Savings'] > 0).sum()}\")\n",
    "    print(f\"Number of Full Derate False Positive Predictions with Losses: {(results_df['Losses'] > 0).sum()}\")\n",
    "    print(f\"Total Savings: ${total_savings:,.2f}\")\n",
    "    print(f\"Total Losses: ${total_losses:,.2f}\")\n",
    "    print(f\"Net Savings or Losses: ${net_saving_or_loss:,.2f}\")\n",
    "    \n",
    "    # Display a few sample results\n",
    "    print(\"\\nSample equipment results:\")\n",
    "    print(results_df.head(10))\n",
    "    \n",
    "    # Save the detailed results to CSV\n",
    "    results_df.to_csv('../data/equipment_savings_analysis_byTimeIntervalClass.csv', index=False)\n",
    "    print(\"Detailed results saved to 'equipment_savings_analysis.csv'\")\n",
    "    \n",
    "    return net_saving_or_loss"
   ]
  },
  {
   "cell_type": "code",
   "execution_count": 17,
   "id": "dfbc3da1",
   "metadata": {},
   "outputs": [
    {
     "name": "stdout",
     "output_type": "stream",
     "text": [
      "Loading data from ../data/In2019_withFresh_Y_Pred_TimeIntervalClass.csv...\n",
      "Data loaded. Shape: (112019, 55)\n",
      "Columns: ['Unnamed: 0.2', 'Unnamed: 0.1', 'Unnamed: 0', 'RecordID', 'ESS_Id', 'EventTimeStamp', 'eventDescription', 'actionDescription', 'ecuSoftwareVersion', 'ecuSerialNumber', 'ecuModel', 'ecuMake', 'ecuSource', 'spn', 'fmi', 'active', 'activeTransitionCount', 'faultValue', 'EquipmentID', 'MCTNumber', 'Latitude', 'Longitude', 'LocationTimeStamp', 'FaultId', 'AcceleratorPedal', 'BarometricPressure', 'CruiseControlActive', 'CruiseControlSetSpeed', 'DistanceLtd', 'EngineCoolantTemperature', 'EngineLoad', 'EngineOilPressure', 'EngineOilTemperature', 'EngineRpm', 'EngineTimeLtd', 'FuelLevel', 'FuelLtd', 'FuelRate', 'FuelTemperature', 'IgnStatus', 'IntakeManifoldTemperature', 'LampStatus', 'ParkingBrake', 'ServiceDistance', 'Speed', 'SwitchedBatteryVoltage', 'Throttle', 'TurboBoostPressure', 'spn_fmi', 'is_fullderate', 'is_fullderate_group', 'EquipID_Index', 'time_to_next_SPN5246', 'time_interval_to_SPN5246_class', 'Predicted_Time_Interval_Class']\n",
      "Number of unique EquipID_Index: 787\n",
      "\n",
      "Summary of Results:\n",
      "Total Count of EquipmentID_Index by Full Derates or Lack Thereof: 787\n",
      "Number of Full Derate True Positive Predictions with Savings: 59\n",
      "Number of Full Derate False Positive Predictions with Losses: 367\n",
      "Total Savings: $236,000.00\n",
      "Total Losses: $183,500.00\n",
      "Net Savings or Losses: $52,500.00\n",
      "\n",
      "Sample equipment results:\n",
      "  EquipID_Index  Has_SPN_5246  Has_Time_Interval_1  Savings  Losses  Net\n",
      "0   105338729_0         False                False        0       0    0\n",
      "1   105344451_0         False                False        0       0    0\n",
      "2   105349576_0         False                 True        0     500 -500\n",
      "3   105370255_0         False                False        0       0    0\n",
      "4   105411909_0         False                False        0       0    0\n",
      "5   105427203_1         False                False        0       0    0\n",
      "6   105437340_0         False                 True        0     500 -500\n",
      "7        1688_0         False                False        0       0    0\n",
      "8        1698_0         False                 True        0     500 -500\n",
      "9        1698_1          True                False        0       0    0\n",
      "Detailed results saved to 'equipment_savings_analysis.csv'\n",
      "\n",
      "Overall result: Net savings of $52,500.00\n"
     ]
    }
   ],
   "source": [
    "if __name__ == \"__main__\":\n",
    "    # Replace with the actual path to your data file\n",
    "    data_file = \"../data/In2019_withFresh_Y_Pred_TimeIntervalClass.csv\"\n",
    "    \n",
    "    try:\n",
    "        net_result = calculate_equipment_savings(data_file)\n",
    "        \n",
    "        if net_result > 0:\n",
    "            print(f\"\\nOverall result: Net savings of ${net_result:,.2f}\")\n",
    "        else:\n",
    "            print(f\"\\nOverall result: Net loss of ${-net_result:,.2f}\")\n",
    "    \n",
    "    except Exception as e:\n",
    "        print(f\"Error processing data: {e}\")"
   ]
  },
  {
   "cell_type": "code",
   "execution_count": null,
   "id": "c7d06fea",
   "metadata": {},
   "outputs": [],
   "source": []
  },
  {
   "cell_type": "code",
   "execution_count": null,
   "id": "02ea0db9",
   "metadata": {},
   "outputs": [],
   "source": []
  },
  {
   "cell_type": "code",
   "execution_count": null,
   "id": "8cbbcf21",
   "metadata": {},
   "outputs": [],
   "source": []
  },
  {
   "cell_type": "code",
   "execution_count": null,
   "id": "78c2fcfd",
   "metadata": {},
   "outputs": [],
   "source": []
  }
 ],
 "metadata": {
  "kernelspec": {
   "display_name": "Python 3",
   "language": "python",
   "name": "python3"
  },
  "language_info": {
   "codemirror_mode": {
    "name": "ipython",
    "version": 3
   },
   "file_extension": ".py",
   "mimetype": "text/x-python",
   "name": "python",
   "nbconvert_exporter": "python",
   "pygments_lexer": "ipython3",
   "version": "3.13.2"
  }
 },
 "nbformat": 4,
 "nbformat_minor": 5
}
